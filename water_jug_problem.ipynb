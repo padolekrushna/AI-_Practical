{
  "nbformat": 4,
  "nbformat_minor": 0,
  "metadata": {
    "colab": {
      "provenance": [],
      "authorship_tag": "ABX9TyN2aoYW8AfKeX0/dTfEbck7",
      "include_colab_link": true
    },
    "kernelspec": {
      "name": "python3",
      "display_name": "Python 3"
    },
    "language_info": {
      "name": "python"
    }
  },
  "cells": [
    {
      "cell_type": "markdown",
      "metadata": {
        "id": "view-in-github",
        "colab_type": "text"
      },
      "source": [
        "<a href=\"https://colab.research.google.com/github/padolekrushna/AI-_Practical/blob/main/water_jug_problem.ipynb\" target=\"_parent\"><img src=\"https://colab.research.google.com/assets/colab-badge.svg\" alt=\"Open In Colab\"/></a>"
      ]
    },
    {
      "cell_type": "code",
      "execution_count": 3,
      "metadata": {
        "colab": {
          "base_uri": "https://localhost:8080/"
        },
        "id": "H3ylhnzcfti9",
        "outputId": "b7c929f6-5079-418b-8768-3b3f6ac65b34"
      },
      "outputs": [
        {
          "output_type": "stream",
          "name": "stdout",
          "text": [
            "JUG1\tJUG2\n",
            "0\t0\n",
            "3\t0\n",
            "0\t3\n",
            "3\t3\n",
            "2\t4\n",
            "0\t2\n"
          ]
        }
      ],
      "source": [
        "def pour(jug1, jug2):\n",
        "    max1, max2, fill = 3, 4, 2  #Change maximum capacity and final capacity\n",
        "    print(\"%d\\t%d\" % (jug1, jug2))\n",
        "    if jug2 == fill:\n",
        "        return\n",
        "    elif jug2 == max2:\n",
        "        pour(0, jug1)\n",
        "    elif jug1 != 0 and jug2 == 0:\n",
        "        pour(0, jug1)\n",
        "    elif jug1 == fill:\n",
        "        pour(jug1, 0)\n",
        "    elif jug1 < max1:\n",
        "        pour(max1, jug2)\n",
        "    elif jug1 < (max2-jug2):\n",
        "        pour(0, (jug1+jug2))\n",
        "    else:\n",
        "        pour(jug1-(max2-jug2), (max2-jug2)+jug2)\n",
        "\n",
        "print(\"JUG1\\tJUG2\")\n",
        "pour(0, 0)"
      ]
    },
    {
      "cell_type": "code",
      "source": [],
      "metadata": {
        "id": "jT-gF72NgJ30"
      },
      "execution_count": null,
      "outputs": []
    }
  ]
}