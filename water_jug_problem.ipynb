{
  "nbformat": 4,
  "nbformat_minor": 0,
  "metadata": {
    "colab": {
      "provenance": [],
      "authorship_tag": "ABX9TyOtuU1QspQ/+1HjnEVd/v++",
      "include_colab_link": true
    },
    "kernelspec": {
      "name": "python3",
      "display_name": "Python 3"
    },
    "language_info": {
      "name": "python"
    }
  },
  "cells": [
    {
      "cell_type": "markdown",
      "metadata": {
        "id": "view-in-github",
        "colab_type": "text"
      },
      "source": [
        "<a href=\"https://colab.research.google.com/github/padolekrushna/AI-_Practical/blob/main/water_jug_problem.ipynb\" target=\"_parent\"><img src=\"https://colab.research.google.com/assets/colab-badge.svg\" alt=\"Open In Colab\"/></a>"
      ]
    },
    {
      "cell_type": "code",
      "execution_count": 1,
      "metadata": {
        "colab": {
          "base_uri": "https://localhost:8080/"
        },
        "id": "H3ylhnzcfti9",
        "outputId": "5dc12b3f-a072-4585-824f-f7bda42ee628"
      },
      "outputs": [
        {
          "output_type": "stream",
          "name": "stdout",
          "text": [
            "JUG1\tJUG2\n",
            "0\t0\n",
            "3\t0\n",
            "0\t3\n",
            "3\t3\n",
            "2\t4\n",
            "0\t2\n"
          ]
        }
      ],
      "source": [
        "def pour(jug1, jug2):\n",
        "    max1, max2, fill = 3, 4, 2\n",
        "    print(\"%d\\t%d\" % (jug1, jug2))\n",
        "    if jug2 == fill:\n",
        "        return\n",
        "    elif jug2 == max2:  #fill jug2 = 4\n",
        "        pour(0, jug1)   #jug2 into jug1\n",
        "    elif jug1 != 0 and jug2 == 0:\n",
        "        pour(0, jug1)       #jug1 into jug2\n",
        "    elif jug1 == fill:\n",
        "        pour(jug1, 0)    # empty jug1\n",
        "    elif jug1 < max1:\n",
        "        pour(max1, jug2)    #jug1 is not full, fill jug1 to its maximum capacity (max1)\n",
        "    elif jug1 < (max2-jug2):   #jug1 into jug2\n",
        "        pour(0, (jug1+jug2))\n",
        "    else:\n",
        "        pour(jug1-(max2-jug2), (max2-jug2)+jug2)    #jug1 to jug2\n",
        "\n",
        "print(\"JUG1\\tJUG2\")\n",
        "pour(0, 0)"
      ]
    },
    {
      "cell_type": "code",
      "source": [],
      "metadata": {
        "id": "jT-gF72NgJ30"
      },
      "execution_count": null,
      "outputs": []
    }
  ]
}