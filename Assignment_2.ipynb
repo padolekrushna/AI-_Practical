{
  "nbformat": 4,
  "nbformat_minor": 0,
  "metadata": {
    "colab": {
      "provenance": [],
      "authorship_tag": "ABX9TyOfisHNUGFqA6siF/cu3bXH",
      "include_colab_link": true
    },
    "kernelspec": {
      "name": "python3",
      "display_name": "Python 3"
    },
    "language_info": {
      "name": "python"
    }
  },
  "cells": [
    {
      "cell_type": "markdown",
      "metadata": {
        "id": "view-in-github",
        "colab_type": "text"
      },
      "source": [
        "<a href=\"https://colab.research.google.com/github/padolekrushna/AI-_Practical/blob/main/Assignment_2.ipynb\" target=\"_parent\"><img src=\"https://colab.research.google.com/assets/colab-badge.svg\" alt=\"Open In Colab\"/></a>"
      ]
    },
    {
      "cell_type": "markdown",
      "source": [
        "Q1)Python Program to Check Prime Number"
      ],
      "metadata": {
        "id": "0EYpg6_f7-yX"
      }
    },
    {
      "cell_type": "code",
      "execution_count": 1,
      "metadata": {
        "colab": {
          "base_uri": "https://localhost:8080/"
        },
        "id": "xgzXTIb86bnr",
        "outputId": "8ff70c9b-a961-46e7-d66b-260083166ece"
      },
      "outputs": [
        {
          "output_type": "stream",
          "name": "stdout",
          "text": [
            "11 is a prime number\n"
          ]
        }
      ],
      "source": [
        "num = 11\n",
        "# If given number is greater than 1\n",
        "if num > 1:\n",
        "    # Iterate from 2 to n // 2\n",
        "    for i in range(2, (num//2)+1):\n",
        "        # If num is divisible by any number between\n",
        "        # 2 and n / 2, it is not prime\n",
        "        if (num % i) == 0:\n",
        "            print(num, \"is not a prime number\")\n",
        "            break\n",
        "    else:\n",
        "        print(num, \"is a prime number\")\n",
        "else:\n",
        "    print(num, \"is not a prime number\")"
      ]
    },
    {
      "cell_type": "markdown",
      "source": [
        "Q2) Write a python program to implement list operations (Nested List, Length, Concatenation,Membership,Iteration,Indexing and Slicing)"
      ],
      "metadata": {
        "id": "aflhBIiv8ujf"
      }
    },
    {
      "cell_type": "code",
      "source": [
        "# Nested List\n",
        "nested_list = [[1, 2, 3], [4, 5, 6], [7, 8, 9]]\n",
        "\n",
        "# Length of a List\n",
        "length = len(nested_list)\n",
        "print(f\"Length of the nested_list: {length}\")\n",
        "\n",
        "# Concatenation of Lists\n",
        "list1 = [1, 2, 3]\n",
        "list2 = [4, 5, 6]\n",
        "concatenated_list = list1 + list2\n",
        "print(f\"Concatenated list: {concatenated_list}\")\n",
        "\n",
        "# Membership Check\n",
        "element_to_check = 2\n",
        "if element_to_check in list1:\n",
        "    print(f\"{element_to_check} is present in list1.\")\n",
        "else:\n",
        "    print(f\"{element_to_check} is not present in list1.\")\n",
        "\n",
        "# Iteration through a List\n",
        "for element in list1:\n",
        "    print(element)\n",
        "\n",
        "# Indexing\n",
        "index_to_access = 1\n",
        "element_at_index = list1[index_to_access]\n",
        "print(f\"Element at index {index_to_access}: {element_at_index}\")\n",
        "\n",
        "# Slicing\n",
        "start_index = 1\n",
        "end_index = 3\n",
        "sliced_list = list1[start_index:end_index]\n",
        "print(f\"Sliced list from index {start_index} to {end_index - 1}: {sliced_list}\")"
      ],
      "metadata": {
        "colab": {
          "base_uri": "https://localhost:8080/"
        },
        "id": "n7-cMG_i8Epb",
        "outputId": "e17795f4-dbb4-4526-facb-f586c3b11978"
      },
      "execution_count": 2,
      "outputs": [
        {
          "output_type": "stream",
          "name": "stdout",
          "text": [
            "Length of the nested_list: 3\n",
            "Concatenated list: [1, 2, 3, 4, 5, 6]\n",
            "2 is present in list1.\n",
            "1\n",
            "2\n",
            "3\n",
            "Element at index 1: 2\n",
            "Sliced list from index 1 to 2: [2, 3]\n"
          ]
        }
      ]
    },
    {
      "cell_type": "markdown",
      "source": [
        "Q3)Write a python  program to implement List Methods(Add, Append, Extend & amp\n",
        "Delete)"
      ],
      "metadata": {
        "id": "slWlJgOD82fq"
      }
    },
    {
      "cell_type": "code",
      "source": [
        "class ListOperations:\n",
        "    def __init__(self):\n",
        "        self.my_list = []\n",
        "\n",
        "    def add_element(self, element):\n",
        "        self.my_list.append(element)\n",
        "\n",
        "    def append_elements(self, elements):\n",
        "        self.my_list.extend(elements)\n",
        "\n",
        "    def delete_element(self, index):\n",
        "        del self.my_list[index]\n",
        "\n",
        "    def display_list(self):\n",
        "        print(\"Current list:\", self.my_list)\n",
        "\n",
        "\n",
        "def main():\n",
        "    list_op = ListOperations()\n",
        "    menu = \"\\nMenu:\\n1. Add element\\n2. Append elements\\n3. Delete element\\n4. Display list\\n5. Exit\\n\"\n",
        "\n",
        "    while True:\n",
        "        choice = input(menu + \"Enter your choice: \")\n",
        "        if choice == \"1\":\n",
        "            list_op.add_element(input(\"Enter element to add: \"))\n",
        "        elif choice == \"2\":\n",
        "            list_op.append_elements(input(\"Enter elements to append (separated by space): \").split())\n",
        "        elif choice == \"3\":\n",
        "            list_op.delete_element(int(input(\"Enter index of element to delete: \")))\n",
        "        elif choice == \"4\":\n",
        "            list_op.display_list()\n",
        "        elif choice == \"5\":\n",
        "            print(\"Exiting program.\")\n",
        "            break\n",
        "        else:\n",
        "            print(\"Invalid choice. Please try again.\")\n",
        "\n",
        "\n",
        "if __name__ == \"__main__\":\n",
        "    main()\n"
      ],
      "metadata": {
        "colab": {
          "base_uri": "https://localhost:8080/",
          "height": 790
        },
        "id": "kLfyuXPQ9sfg",
        "outputId": "4d3c914f-bcd1-42ed-a401-7ca5a626e28c"
      },
      "execution_count": 5,
      "outputs": [
        {
          "name": "stdout",
          "output_type": "stream",
          "text": [
            "\n",
            "Menu:\n",
            "1. Add element\n",
            "2. Append elements\n",
            "3. Delete element\n",
            "4. Display list\n",
            "5. Exit\n",
            "Enter your choice: 2\n",
            "Enter elements to append (separated by space): 23\n",
            "\n",
            "Menu:\n",
            "1. Add element\n",
            "2. Append elements\n",
            "3. Delete element\n",
            "4. Display list\n",
            "5. Exit\n",
            "Enter your choice: 1\n",
            "Enter element to add: 23\n",
            "\n",
            "Menu:\n",
            "1. Add element\n",
            "2. Append elements\n",
            "3. Delete element\n",
            "4. Display list\n",
            "5. Exit\n",
            "Enter your choice: 3\n",
            "Enter index of element to delete: 23\n"
          ]
        },
        {
          "output_type": "error",
          "ename": "IndexError",
          "evalue": "list assignment index out of range",
          "traceback": [
            "\u001b[0;31m---------------------------------------------------------------------------\u001b[0m",
            "\u001b[0;31mIndexError\u001b[0m                                Traceback (most recent call last)",
            "\u001b[0;32m<ipython-input-5-3a6b88d47b02>\u001b[0m in \u001b[0;36m<cell line: 39>\u001b[0;34m()\u001b[0m\n\u001b[1;32m     38\u001b[0m \u001b[0;34m\u001b[0m\u001b[0m\n\u001b[1;32m     39\u001b[0m \u001b[0;32mif\u001b[0m \u001b[0m__name__\u001b[0m \u001b[0;34m==\u001b[0m \u001b[0;34m\"__main__\"\u001b[0m\u001b[0;34m:\u001b[0m\u001b[0;34m\u001b[0m\u001b[0;34m\u001b[0m\u001b[0m\n\u001b[0;32m---> 40\u001b[0;31m     \u001b[0mmain\u001b[0m\u001b[0;34m(\u001b[0m\u001b[0;34m)\u001b[0m\u001b[0;34m\u001b[0m\u001b[0;34m\u001b[0m\u001b[0m\n\u001b[0m",
            "\u001b[0;32m<ipython-input-5-3a6b88d47b02>\u001b[0m in \u001b[0;36mmain\u001b[0;34m()\u001b[0m\n\u001b[1;32m     27\u001b[0m             \u001b[0mlist_op\u001b[0m\u001b[0;34m.\u001b[0m\u001b[0mappend_elements\u001b[0m\u001b[0;34m(\u001b[0m\u001b[0minput\u001b[0m\u001b[0;34m(\u001b[0m\u001b[0;34m\"Enter elements to append (separated by space): \"\u001b[0m\u001b[0;34m)\u001b[0m\u001b[0;34m.\u001b[0m\u001b[0msplit\u001b[0m\u001b[0;34m(\u001b[0m\u001b[0;34m)\u001b[0m\u001b[0;34m)\u001b[0m\u001b[0;34m\u001b[0m\u001b[0;34m\u001b[0m\u001b[0m\n\u001b[1;32m     28\u001b[0m         \u001b[0;32melif\u001b[0m \u001b[0mchoice\u001b[0m \u001b[0;34m==\u001b[0m \u001b[0;34m\"3\"\u001b[0m\u001b[0;34m:\u001b[0m\u001b[0;34m\u001b[0m\u001b[0;34m\u001b[0m\u001b[0m\n\u001b[0;32m---> 29\u001b[0;31m             \u001b[0mlist_op\u001b[0m\u001b[0;34m.\u001b[0m\u001b[0mdelete_element\u001b[0m\u001b[0;34m(\u001b[0m\u001b[0mint\u001b[0m\u001b[0;34m(\u001b[0m\u001b[0minput\u001b[0m\u001b[0;34m(\u001b[0m\u001b[0;34m\"Enter index of element to delete: \"\u001b[0m\u001b[0;34m)\u001b[0m\u001b[0;34m)\u001b[0m\u001b[0;34m)\u001b[0m\u001b[0;34m\u001b[0m\u001b[0;34m\u001b[0m\u001b[0m\n\u001b[0m\u001b[1;32m     30\u001b[0m         \u001b[0;32melif\u001b[0m \u001b[0mchoice\u001b[0m \u001b[0;34m==\u001b[0m \u001b[0;34m\"4\"\u001b[0m\u001b[0;34m:\u001b[0m\u001b[0;34m\u001b[0m\u001b[0;34m\u001b[0m\u001b[0m\n\u001b[1;32m     31\u001b[0m             \u001b[0mlist_op\u001b[0m\u001b[0;34m.\u001b[0m\u001b[0mdisplay_list\u001b[0m\u001b[0;34m(\u001b[0m\u001b[0;34m)\u001b[0m\u001b[0;34m\u001b[0m\u001b[0;34m\u001b[0m\u001b[0m\n",
            "\u001b[0;32m<ipython-input-5-3a6b88d47b02>\u001b[0m in \u001b[0;36mdelete_element\u001b[0;34m(self, index)\u001b[0m\n\u001b[1;32m     10\u001b[0m \u001b[0;34m\u001b[0m\u001b[0m\n\u001b[1;32m     11\u001b[0m     \u001b[0;32mdef\u001b[0m \u001b[0mdelete_element\u001b[0m\u001b[0;34m(\u001b[0m\u001b[0mself\u001b[0m\u001b[0;34m,\u001b[0m \u001b[0mindex\u001b[0m\u001b[0;34m)\u001b[0m\u001b[0;34m:\u001b[0m\u001b[0;34m\u001b[0m\u001b[0;34m\u001b[0m\u001b[0m\n\u001b[0;32m---> 12\u001b[0;31m         \u001b[0;32mdel\u001b[0m \u001b[0mself\u001b[0m\u001b[0;34m.\u001b[0m\u001b[0mmy_list\u001b[0m\u001b[0;34m[\u001b[0m\u001b[0mindex\u001b[0m\u001b[0;34m]\u001b[0m\u001b[0;34m\u001b[0m\u001b[0;34m\u001b[0m\u001b[0m\n\u001b[0m\u001b[1;32m     13\u001b[0m \u001b[0;34m\u001b[0m\u001b[0m\n\u001b[1;32m     14\u001b[0m     \u001b[0;32mdef\u001b[0m \u001b[0mdisplay_list\u001b[0m\u001b[0;34m(\u001b[0m\u001b[0mself\u001b[0m\u001b[0;34m)\u001b[0m\u001b[0;34m:\u001b[0m\u001b[0;34m\u001b[0m\u001b[0;34m\u001b[0m\u001b[0m\n",
            "\u001b[0;31mIndexError\u001b[0m: list assignment index out of range"
          ]
        }
      ]
    },
    {
      "cell_type": "markdown",
      "source": [
        "Q4) Write a program to implement map, reduce and filter function with lambda\n",
        "function in python"
      ],
      "metadata": {
        "id": "aOfmZSNE-Ouu"
      }
    },
    {
      "cell_type": "code",
      "source": [
        "from functools import reduce\n",
        "\n",
        "# Define a list\n",
        "numbers = [1, 2, 3, 4, 5]\n",
        "\n",
        "# Map function: Multiply each element by 2\n",
        "mapped_result = list(map(lambda x: x * 2, numbers))\n",
        "print(\"Mapped result:\", mapped_result)\n",
        "\n",
        "# Filter function: Filter out even numbers\n",
        "filtered_result = list(filter(lambda x: x % 2 != 0, numbers))\n",
        "print(\"Filtered result:\", filtered_result)\n",
        "\n",
        "# Reduce function: Sum of all elements\n",
        "reduced_result = reduce(lambda x, y: x + y, numbers)\n",
        "print(\"Reduced result:\", reduced_result)\n"
      ],
      "metadata": {
        "colab": {
          "base_uri": "https://localhost:8080/"
        },
        "id": "vpCwXHla9tCx",
        "outputId": "88edc478-cde6-4352-c964-46b66dd075db"
      },
      "execution_count": 6,
      "outputs": [
        {
          "output_type": "stream",
          "name": "stdout",
          "text": [
            "Mapped result: [2, 4, 6, 8, 10]\n",
            "Filtered result: [1, 3, 5]\n",
            "Reduced result: 15\n"
          ]
        }
      ]
    },
    {
      "cell_type": "markdown",
      "source": [
        "Q4) Write a program to Illustrate Different Set Operations"
      ],
      "metadata": {
        "id": "QoSCfESr-vgm"
      }
    },
    {
      "cell_type": "code",
      "source": [
        "# Program to perform different set operations like in mathematics\n",
        "\n",
        "# define three sets\n",
        "E = {0, 2, 4, 6, 8};\n",
        "N = {1, 2, 3, 4, 5};\n",
        "\n",
        "# set union\n",
        "print(\"Union of E and N is\",E | N)\n",
        "\n",
        "# set intersection\n",
        "print(\"Intersection of E and N is\",E & N)\n",
        "\n",
        "# set difference\n",
        "print(\"Difference of E and N is\",E - N)\n",
        "\n",
        "# set symmetric difference\n",
        "print(\"Symmetric difference of E and N is\",E ^ N)\n"
      ],
      "metadata": {
        "colab": {
          "base_uri": "https://localhost:8080/"
        },
        "id": "n_3HFfaa-UV-",
        "outputId": "e507eefa-be29-4a5d-82ce-cc17528d9a70"
      },
      "execution_count": 7,
      "outputs": [
        {
          "output_type": "stream",
          "name": "stdout",
          "text": [
            "Union of E and N is {0, 1, 2, 3, 4, 5, 6, 8}\n",
            "Intersection of E and N is {2, 4}\n",
            "Difference of E and N is {0, 8, 6}\n",
            "Symmetric difference of E and N is {0, 1, 3, 5, 6, 8}\n"
          ]
        }
      ]
    },
    {
      "cell_type": "code",
      "source": [],
      "metadata": {
        "id": "lKu_qyYW-ywZ"
      },
      "execution_count": null,
      "outputs": []
    }
  ]
}