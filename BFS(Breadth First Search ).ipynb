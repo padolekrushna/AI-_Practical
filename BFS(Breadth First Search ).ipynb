{
 "cells": [
  {
   "cell_type": "code",
   "execution_count": 1,
   "id": "57f0e78d",
   "metadata": {},
   "outputs": [
    {
     "name": "stdout",
     "output_type": "stream",
     "text": [
      "BFS Traversal:\n",
      "2 0 3 1 "
     ]
    },
    {
     "data": {
      "text/plain": [
       "\"\\n1.Graph Class:\\n\\na=We define a class called Graph to represent a graph data structure.\\nb=The constructor __init__ initializes an empty dictionary self.graph to store the graph's adjacency list.\\n\\n2.add_edge Method:\\n\\na=This method adds an edge between two vertices of the graph.\\nb=It takes two parameters u and v, representing the vertices of the edge.\\nc=If u is not already in the graph, it adds u as a key to the dictionary self.graph with an empty list as its value.\\nd=Then, it appends v to the list of adjacent vertices of u.\\n\\n3.bfs Method:\\n\\na=This method performs breadth-first search traversal starting from a given vertex start.\\nb=It initializes an empty set visited to keep track of visited vertices and an empty list queue to store vertices to be explored.\\nc=It starts by marking the start vertex as visited and enqueuing it into the queue.\\nd=Then, it enters a loop that continues until the queue is empty.\\nInside the loop, it dequeues a vertex from the front of the queue, prints it (or processes it in any desired way), and then iterates through its adjacent vertices.\\ne=For each adjacent vertex that has not been visited yet, it marks it as visited, enqueues it into the queue, and continues the process.\\n\\n4.Example Usage:\\n\\n:We create an instance of the Graph class named graph.\\n:We add edges to the graph using the add_edge method to create a sample graph.\\nWe then print the BFS traversal starting from vertex 2 by calling the bfs method on the graph object.\\n:This program demonstrates a basic implementation of BFS traversal on a graph represented using an adjacency list. It can be extended or modified to suit specific requirements, such as handling directed or weighted graphs, or incorporating additional functionalities.\\n\""
      ]
     },
     "execution_count": 1,
     "metadata": {},
     "output_type": "execute_result"
    }
   ],
   "source": [
    "class Graph:\n",
    "    def __init__(self):\n",
    "        self.graph = {}\n",
    "\n",
    "    def add_edge(self, u, v):\n",
    "        if u not in self.graph:\n",
    "            self.graph[u] = []\n",
    "        self.graph[u].append(v)\n",
    "\n",
    "    def bfs(self, start):\n",
    "        visited = set()\n",
    "        queue = []\n",
    "\n",
    "        visited.add(start)\n",
    "        queue.append(start)\n",
    "\n",
    "        while queue:\n",
    "            node = queue.pop(0)\n",
    "            print(node, end=\" \")\n",
    "\n",
    "            for neighbor in self.graph.get(node, []):\n",
    "                if neighbor not in visited:\n",
    "                    visited.add(neighbor)\n",
    "                    queue.append(neighbor)\n",
    "\n",
    "\n",
    "# Example usage:\n",
    "graph = Graph()\n",
    "graph.add_edge(0, 1)\n",
    "graph.add_edge(0, 2)\n",
    "graph.add_edge(1, 2)\n",
    "graph.add_edge(2, 0)\n",
    "graph.add_edge(2, 3)\n",
    "graph.add_edge(3, 3)\n",
    "\n",
    "print(\"BFS Traversal:\")\n",
    "graph.bfs(2)\n",
    "\n",
    "\n",
    "'''\n",
    "1.Graph Class:\n",
    "\n",
    "a=We define a class called Graph to represent a graph data structure.\n",
    "b=The constructor __init__ initializes an empty dictionary self.graph to store the graph's adjacency list.\n",
    "\n",
    "2.add_edge Method:\n",
    "\n",
    "a=This method adds an edge between two vertices of the graph.\n",
    "b=It takes two parameters u and v, representing the vertices of the edge.\n",
    "c=If u is not already in the graph, it adds u as a key to the dictionary self.graph with an empty list as its value.\n",
    "d=Then, it appends v to the list of adjacent vertices of u.\n",
    "\n",
    "3.bfs Method:\n",
    "\n",
    "a=This method performs breadth-first search traversal starting from a given vertex start.\n",
    "b=It initializes an empty set visited to keep track of visited vertices and an empty list queue to store vertices to be explored.\n",
    "c=It starts by marking the start vertex as visited and enqueuing it into the queue.\n",
    "d=Then, it enters a loop that continues until the queue is empty.\n",
    "Inside the loop, it dequeues a vertex from the front of the queue, prints it (or processes it in any desired way), and then iterates through its adjacent vertices.\n",
    "e=For each adjacent vertex that has not been visited yet, it marks it as visited, enqueues it into the queue, and continues the process.\n",
    "\n",
    "4.Example Usage:\n",
    "\n",
    ":We create an instance of the Graph class named graph.\n",
    ":We add edges to the graph using the add_edge method to create a sample graph.\n",
    "We then print the BFS traversal starting from vertex 2 by calling the bfs method on the graph object.\n",
    ":This program demonstrates a basic implementation of BFS traversal on a graph represented using an adjacency list. It can be extended or modified to suit specific requirements, such as handling directed or weighted graphs, or incorporating additional functionalities.\n",
    "'''\n"
   ]
  },
  {
   "cell_type": "code",
   "execution_count": null,
   "id": "206b6016",
   "metadata": {},
   "outputs": [],
   "source": []
  }
 ],
 "metadata": {
  "kernelspec": {
   "display_name": "Python 3 (ipykernel)",
   "language": "python",
   "name": "python3"
  },
  "language_info": {
   "codemirror_mode": {
    "name": "ipython",
    "version": 3
   },
   "file_extension": ".py",
   "mimetype": "text/x-python",
   "name": "python",
   "nbconvert_exporter": "python",
   "pygments_lexer": "ipython3",
   "version": "3.11.5"
  }
 },
 "nbformat": 4,
 "nbformat_minor": 5
}
